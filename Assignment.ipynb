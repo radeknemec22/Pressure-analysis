{
 "cells": [
  {
   "cell_type": "markdown",
   "metadata": {},
   "source": [
    "# Pumping Events Detection\n",
    "\n",
    "Detect pumping cycles. Calculate and visualize the health of the pump using the data from the cycles.\n",
    "\n",
    "\n",
    "\n",
    "## Input\n",
    "\n",
    "The Pressure.csv file contains the following columns:\n",
    "\n",
    "- Date - timestamp of the row\n",
    "\n",
    "- Pressure [Pa] - actual pressure in a vacuum chamber\n",
    "\n",
    "- PumpState [Enumeration] - actual state of a pump\n",
    "\n",
    "Each row of the file represents one logging. The PumpState values are logged only when the pump changes its state. Until then, the previous logged state is valid. The Pressure is logged irregularly and only when a pressure measurement is performed.\n",
    "\n",
    "\n",
    "## Algorithm Assigment\n",
    "\n",
    "The pumping cycle is defined as followed:\n",
    "\n",
    "- starts 10 seconds after the PumpState changes its value to pumping (1)\n",
    "\n",
    "- ends 5 second before the PumpState changes its value to pumped (2)\n",
    "\n",
    "- there are no changes of PumpState during the cycle (but some additional pumping = 1 values may be logged during the cycle)\n",
    "\n",
    "## A) Cycle Threshold\n",
    "\n",
    "Calculate the cycle threshold (minimal Pressure value) for each cycle. Finally, calculate the mean of the cycle threshold values.\n",
    "\n",
    "## B) Cycle Trend Health Hypothesis\n",
    "\n",
    "Consider the following pump health hypothesis. If the pump is healthy, the Pressure should gradually decrease during the pumping cycle. Check whether the data match the hypothesis. Use any approach and visualization means to perform the check. (The hypothesis testing is a possible solution but is not required. Simple \"common sense\" approach is perfectly OK.)\n",
    "\n",
    "\n",
    "## Output\n",
    "\n",
    "1.) Visualize all the cycle threshold values using time as x-axis\n",
    "\n",
    "2.) Visualize the cycle trend health analysis results\n",
    "\n",
    "3.) Commit all your code and results back to the repository\n",
    "\n",
    "\n"
   ]
  },
  {
   "cell_type": "markdown",
   "metadata": {},
   "source": [
    "### IMPORTS"
   ]
  },
  {
   "cell_type": "code",
   "execution_count": null,
   "metadata": {
    "collapsed": false
   },
   "outputs": [],
   "source": [
    "%matplotlib inline\n",
    "\n",
    "import pandas as pd\n",
    "import matplotlib.pyplot as plt\n",
    "import plotly.graph_objs as go\n",
    "from plotly.offline import iplot\n",
    "import plotly\n",
    "plotly.offline.init_notebook_mode()\n",
    "\n",
    "pd.set_option('mode.chained_assignment', None)\n"
   ]
  },
  {
   "cell_type": "markdown",
   "metadata": {},
   "source": [
    "### LOAD INPUT"
   ]
  },
  {
   "cell_type": "code",
   "execution_count": null,
   "metadata": {
    "collapsed": false
   },
   "outputs": [],
   "source": [
    "df_pressure = pd.read_csv('Pressure.csv')\n"
   ]
  },
  {
   "cell_type": "markdown",
   "metadata": {},
   "source": [
    "### ALGORITHM CORE"
   ]
  },
  {
   "cell_type": "markdown",
   "metadata": {},
   "source": [
    "- get dataframe with PumpState 1 or 2 (defines the start and end of each cycle)\n",
    "- if the PumpState is the same as the previous one, remove it"
   ]
  },
  {
   "cell_type": "code",
   "execution_count": null,
   "metadata": {
    "collapsed": false
   },
   "outputs": [],
   "source": [
    "df_cycles_def = df_pressure.query('1 <= PumpState <= 2')\n",
    "df_cycles_def = (\n",
    "    df_cycles_def\n",
    "    .groupby((df_cycles_def['PumpState'] != df_cycles_def['PumpState']\n",
    "    .shift())\n",
    "    .cumsum()    \n",
    "    .values)\n",
    "    .first()\n",
    "    )\n",
    "\n",
    "df_cycles_def['Date'] = pd.to_datetime(df_cycles_def['Date'])\n",
    "df_pressure['Date'] = pd.to_datetime(df_pressure['Date'])\n",
    "df_pressure = (\n",
    "    df_pressure\n",
    "    .set_index('Date')\n",
    "    .drop(['PumpState', 'Int'], axis=1)\n",
    ")\n"
   ]
  },
  {
   "cell_type": "markdown",
   "metadata": {},
   "source": [
    "- get dataframe only with two columns (df_StartEnd)\n",
    "- first column is the start time of each cycle (values defined as: original one plus 10 seconds)\n",
    "- second column si the end time of each cycle (values defined as: original one minus 5 seconds)"
   ]
  },
  {
   "cell_type": "code",
   "execution_count": null,
   "metadata": {
    "collapsed": false
   },
   "outputs": [],
   "source": [
    "df_StartEnd = (\n",
    "    pd.concat\n",
    "    ([df_cycles_def.loc[df_cycles_def['PumpState'] == 1].reset_index()['Date'] + pd.Timedelta(seconds=10), \n",
    "      df_cycles_def.loc[df_cycles_def['PumpState'] == 2].reset_index()['Date'] - pd.Timedelta(seconds=5)], \n",
    "     axis=1)\n",
    ")\n",
    "df_StartEnd.columns = ['DateStart', 'DateEnd']\n"
   ]
  },
  {
   "cell_type": "markdown",
   "metadata": {},
   "source": [
    "- iterate through the df_StartEnd dataframe and use the start/end time to define the whole cycle\n",
    "- save each cycle with its datetime data to new dataframe df_cycles\n",
    "- create new dataframe df_min_values to store minimum value of each cycle (with its date)"
   ]
  },
  {
   "cell_type": "code",
   "execution_count": null,
   "metadata": {
    "collapsed": false
   },
   "outputs": [],
   "source": [
    "df_cycles = pd.DataFrame()\n",
    "df_min_values = pd.DataFrame()\n",
    "\n",
    "for index in df_StartEnd.itertuples():\n",
    "    df_temp = (\n",
    "        df_pressure   \n",
    "        .truncate(before=index[1], after=index[2])\n",
    "        .reset_index() \n",
    "        )\n",
    "    df_cycles = [df_cycles, df_temp]\n",
    "    df_cycles = pd.concat(df_cycles, axis=1)\n",
    "    df_min_values = df_min_values.append(df_temp[df_temp.eq(df_temp['Pressure'].min()).any(1)], ignore_index = True)\n",
    "    \n",
    "df_min_values = df_min_values.set_index('Date')\n"
   ]
  },
  {
   "cell_type": "markdown",
   "metadata": {},
   "source": [
    "### BASIC STATISTICS"
   ]
  },
  {
   "cell_type": "code",
   "execution_count": null,
   "metadata": {
    "collapsed": false,
    "scrolled": true
   },
   "outputs": [],
   "source": [
    "stats = (\n",
    "    df_min_values\n",
    "    .describe()\n",
    "    .transpose()\n",
    ")\n",
    "\n",
    "stats\n"
   ]
  },
  {
   "cell_type": "markdown",
   "metadata": {},
   "source": [
    "- the mean of the cycle threshold values is equal to 9.06 Pa"
   ]
  },
  {
   "cell_type": "markdown",
   "metadata": {},
   "source": [
    "### VISUALIZATION"
   ]
  },
  {
   "cell_type": "code",
   "execution_count": null,
   "metadata": {
    "collapsed": false,
    "scrolled": true
   },
   "outputs": [],
   "source": [
    "df_cycles.plot(legend=False);\n",
    "plt.xlabel('Time [-]');\n",
    "plt.ylabel('Pressure [Pa]');\n",
    "plt.title('Cycle trend health analysis');\n"
   ]
  },
  {
   "cell_type": "code",
   "execution_count": null,
   "metadata": {
    "collapsed": false
   },
   "outputs": [],
   "source": [
    "df_cycles_pressure = df_cycles['Pressure']\n",
    "df_cycles_date = df_cycles['Date']\n",
    "\n",
    "# insert the number of cycle you want to display (0 to count-1)\n",
    "# 'count' can be found in basic statistics\n",
    "cycle_no = 80\n",
    "\n",
    "values = go.Scatter(x=df_cycles_date.ix[:,cycle_no], y=df_cycles_pressure.ix[:,cycle_no],\n",
    "                    mode='lines',\n",
    "                    name='Cycle trend health analysis',\n",
    "                    connectgaps=True)\n",
    "\n",
    "layout = {\n",
    "    'title' : 'Cycle trend health analysis',\n",
    "    'yaxis' : {'title' : 'Pressure [Pa]'}\n",
    "}\n",
    "\n",
    "data = [values]\n",
    "fig = {'data' : data, 'layout' : layout}\n",
    "\n",
    "iplot(fig, validate = False)\n"
   ]
  },
  {
   "cell_type": "code",
   "execution_count": null,
   "metadata": {
    "collapsed": false
   },
   "outputs": [],
   "source": [
    "values = go.Scatter(x=df_min_values.index, y=df_min_values['Pressure'],\n",
    "                    mode='lines',\n",
    "                    name='Cycle treshold values',\n",
    "                    connectgaps=True)\n",
    "\n",
    "layout = {\n",
    "    'title' : 'Cycle treshold values',\n",
    "    'yaxis' : {'title' : 'Pressure [Pa]'}\n",
    "}\n",
    "\n",
    "data = [values]\n",
    "fig = {'data' : data, 'layout' : layout}\n",
    "\n",
    "iplot(fig, validate = False)\n"
   ]
  },
  {
   "cell_type": "code",
   "execution_count": null,
   "metadata": {
    "collapsed": true
   },
   "outputs": [],
   "source": []
  }
 ],
 "metadata": {
  "kernelspec": {
   "display_name": "Python 2",
   "language": "python",
   "name": "python2"
  },
  "language_info": {
   "codemirror_mode": {
    "name": "ipython",
    "version": 2
   },
   "file_extension": ".py",
   "mimetype": "text/x-python",
   "name": "python",
   "nbconvert_exporter": "python",
   "pygments_lexer": "ipython2",
   "version": "2.7.13"
  }
 },
 "nbformat": 4,
 "nbformat_minor": 2
}
